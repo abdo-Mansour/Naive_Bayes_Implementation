{
 "cells": [
  {
   "cell_type": "code",
   "execution_count": 1,
   "metadata": {},
   "outputs": [],
   "source": [
    "import numpy as np\n",
    "import pandas as pd\n",
    "import matplotlib.pyplot as plt"
   ]
  },
  {
   "cell_type": "code",
   "execution_count": 2,
   "metadata": {},
   "outputs": [],
   "source": [
    "class NaiveBayes:\n",
    "    def __init__(self):\n",
    "        '''\n",
    "        X: pandas DataFrame\n",
    "        y: pandas Series\n",
    "        '''\n",
    "        self.X_df = None\n",
    "        self.y_df = None\n",
    "        self.X = None\n",
    "        self.y = None\n",
    "        self.n = 0\n",
    "\n",
    "        self.features = None\n",
    "        self.classes = None\n",
    "        self.class_prob = {}\n",
    "        self.feature_prob = {}\n",
    "\n",
    "    def print_class_prob_table(self):\n",
    "        '''\n",
    "        print the class probability table\n",
    "        '''\n",
    "        for c in self.classes:\n",
    "            print(f'P({c}) = {self.class_prob[c]}')\n",
    "    \n",
    "    def print_feature_prob_table(self):\n",
    "        '''\n",
    "        print the feature probability table\n",
    "        '''\n",
    "\n",
    "        for f in self.features:\n",
    "            print(f'Feature: {f}')\n",
    "            print(self.feature_prob[f])\n",
    "\n",
    "    def cal_class_prob(self):\n",
    "        '''\n",
    "        calculate the class probability\n",
    "        '''        \n",
    "        for c in self.classes:\n",
    "            self.class_prob[c] = np.sum(self.y == c) / len(self.y)    \n",
    "    \n",
    "    def cal_likelihood(self):\n",
    "        '''\n",
    "        calculate the likelihood of each feature\n",
    "        '''\n",
    "        for f in self.features:\n",
    "            feature_values = np.unique(self.X_df[f].values)\n",
    "            feature_df = pd.DataFrame(index=feature_values, columns=self.classes)\n",
    "            for fv in feature_values:\n",
    "                for c in self.classes:\n",
    "                    feature_df.at[fv , c] = np.sum((self.X_df[f] == fv) & (self.y_df == c))/np.sum(self.y_df == c)\n",
    "                \n",
    "            self.feature_prob[f] = feature_df\n",
    "        \n",
    "    \n",
    "    def fit(self,X,y):\n",
    "        '''\n",
    "        X: pandas DataFrame\n",
    "        y: pandas Series\n",
    "        '''\n",
    "        self.X_df = X\n",
    "        self.y_df = y\n",
    "        self.X = X.values\n",
    "        self.y = y.values\n",
    "        self.n = len(self.y)\n",
    "        self.features = X.columns\n",
    "        self.classes = np.unique(y.values)\n",
    "        self.cal_class_prob()\n",
    "        self.cal_likelihood()\n",
    "\n",
    "\n",
    "    def predict(self,X):\n",
    "        '''\n",
    "        X: pandas DataFrame\n",
    "        y: pandas Series\n",
    "\n",
    "        return: pandas Series\n",
    "        '''\n",
    "        y_pred = []\n",
    "        feature_values = np.unique(X.values)\n",
    "        X_v = X.values\n",
    "        for x in X_v:\n",
    "            prob = {}\n",
    "            for c in self.classes:\n",
    "                prob[c] = self.class_prob[c]\n",
    "                for i in range(len(x)):\n",
    "                    prob[c] *= self.feature_prob[self.features[i]].at[x[i] , c]\n",
    "            y_pred.append(max(prob, key=prob.get))\n",
    "        return pd.Series(y_pred)\n",
    "        "
   ]
  },
  {
   "cell_type": "code",
   "execution_count": 3,
   "metadata": {},
   "outputs": [
    {
     "name": "stdout",
     "output_type": "stream",
     "text": [
      "     Outlook Temperature Humidity    Wind\n",
      "0      Sunny         Hot     High    Weak\n",
      "1      Sunny         Hot     High  Strong\n",
      "2   Overcast         Hot     High    Weak\n",
      "3       Rain        Mild     High    Weak\n",
      "4       Rain        Cool   Normal    Weak\n",
      "5       Rain        Cool   Normal  Strong\n",
      "6   Overcast        Cool   Normal  Strong\n",
      "7      Sunny        Mild     High    Weak\n",
      "8      Sunny        Cool   Normal    Weak\n",
      "9       Rain        Mild   Normal    Weak\n",
      "10     Sunny        Mild   Normal  Strong\n",
      "11  Overcast        Mild     High  Strong\n",
      "12  Overcast         Hot   Normal    Weak\n",
      "13      Rain        Mild     High  Strong\n"
     ]
    }
   ],
   "source": [
    "data = pd.read_csv('tennis.csv')\n",
    "X = data.iloc[:, :-1]\n",
    "y = data.iloc[:, -1]\n",
    "test_df = pd.read_csv('tennis_test.csv')\n",
    "X_test = test_df.iloc[:, :-1]\n",
    "y_test = test_df.iloc[:, -1]\n",
    "print(X)"
   ]
  },
  {
   "cell_type": "code",
   "execution_count": 4,
   "metadata": {},
   "outputs": [
    {
     "name": "stdout",
     "output_type": "stream",
     "text": [
      "P(No) = 0.35714285714285715\n",
      "P(Yes) = 0.6428571428571429\n",
      "---------------------\n",
      "Feature: Outlook\n",
      "           No       Yes\n",
      "Overcast  0.0  0.444444\n",
      "Rain      0.4  0.333333\n",
      "Sunny     0.6  0.222222\n",
      "Feature: Temperature\n",
      "       No       Yes\n",
      "Cool  0.2  0.333333\n",
      "Hot   0.4  0.222222\n",
      "Mild  0.4  0.444444\n",
      "Feature: Humidity\n",
      "         No       Yes\n",
      "High    0.8  0.333333\n",
      "Normal  0.2  0.666667\n",
      "Feature: Wind\n",
      "         No       Yes\n",
      "Strong  0.6  0.333333\n",
      "Weak    0.4  0.666667\n",
      "---------------------\n"
     ]
    }
   ],
   "source": [
    "\n",
    "model = NaiveBayes()\n",
    "model.fit(X, y)\n",
    "\n",
    "model.print_class_prob_table()\n",
    "print(\"---------------------\")\n",
    "model.print_feature_prob_table()\n",
    "print(\"---------------------\")\n"
   ]
  },
  {
   "cell_type": "code",
   "execution_count": 5,
   "metadata": {},
   "outputs": [
    {
     "name": "stdout",
     "output_type": "stream",
     "text": [
      "0    No\n",
      "dtype: object\n",
      "Acc: 1.0\n"
     ]
    }
   ],
   "source": [
    "from sklearn.metrics import accuracy_score\n",
    "\n",
    "y_pred = model.predict(X_test)\n",
    "print(y_pred)\n",
    "print('Acc:', accuracy_score(y_test.values, y_pred.values))"
   ]
  },
  {
   "cell_type": "code",
   "execution_count": null,
   "metadata": {},
   "outputs": [],
   "source": []
  }
 ],
 "metadata": {
  "kernelspec": {
   "display_name": "Python 3",
   "language": "python",
   "name": "python3"
  },
  "language_info": {
   "codemirror_mode": {
    "name": "ipython",
    "version": 3
   },
   "file_extension": ".py",
   "mimetype": "text/x-python",
   "name": "python",
   "nbconvert_exporter": "python",
   "pygments_lexer": "ipython3",
   "version": "3.8.7"
  }
 },
 "nbformat": 4,
 "nbformat_minor": 2
}
